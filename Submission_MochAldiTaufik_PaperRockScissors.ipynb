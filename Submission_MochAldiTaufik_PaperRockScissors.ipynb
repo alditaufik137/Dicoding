{
  "nbformat": 4,
  "nbformat_minor": 0,
  "metadata": {
    "colab": {
      "name": "Submission_MochAldiTaufik_PaperRockScissors.ipynb",
      "provenance": [],
      "authorship_tag": "ABX9TyNRBOhGEacQ7NM1z1aCZAP2",
      "include_colab_link": true
    },
    "kernelspec": {
      "name": "python3",
      "display_name": "Python 3"
    },
    "language_info": {
      "name": "python"
    }
  },
  "cells": [
    {
      "cell_type": "markdown",
      "metadata": {
        "id": "view-in-github",
        "colab_type": "text"
      },
      "source": [
        "<a href=\"https://colab.research.google.com/github/alditaufik137/Dicoding/blob/main/Submission_MochAldiTaufik_PaperRockScissors.ipynb\" target=\"_parent\"><img src=\"https://colab.research.google.com/assets/colab-badge.svg\" alt=\"Open In Colab\"/></a>"
      ]
    },
    {
      "cell_type": "markdown",
      "metadata": {
        "id": "kZOUCD2GCkve"
      },
      "source": [
        "SUBMISSION CNN PAPER ROCK and SCISSORS.\n",
        "\n",
        "NAME : MOCHAMAD ALDI TAUFIK\n",
        "\n",
        "E-MAIL : alditaufik137@gmail.com\n",
        "\n",
        "KELAS : MACHINE LEARNING UNTUK PEMULA (MACHINE LEARNING FOR BEGINNERS)\n",
        "\n",
        "DATASET: https://dicodingacademy.blob.core.windows.net/picodiploma/ml_pemula_academy/rockpaperscissors.zip"
      ]
    },
    {
      "cell_type": "code",
      "metadata": {
        "id": "_WjlAOJiJMQU",
        "colab": {
          "base_uri": "https://localhost:8080/"
        },
        "outputId": "21f37d01-aa82-47cb-cad9-7e9cceef2643"
      },
      "source": [
        "from google.colab import files\n",
        "import random as rd\n",
        "import zipfile, os \n",
        "from tqdm import tqdm \n",
        "import numpy as np  \n",
        "import tensorflow as tf\n",
        "from tensorflow.keras.optimizers import RMSprop \n",
        "from tensorflow.keras.preprocessing.image import ImageDataGenerator\n",
        "from sklearn.model_selection import train_test_split\n",
        "from sklearn.preprocessing import LabelEncoder\n",
        "from keras.preprocessing import image\n",
        "import cv2 \n",
        "import matplotlib.image as mpimg \n",
        "import matplotlib.pyplot as plt\n",
        "%matplotlib inline\n",
        "import seaborn as sns\n",
        "from sklearn.metrics import confusion_matrix \n",
        "import shutil\n",
        "print(tf.__version__)"
      ],
      "execution_count": 116,
      "outputs": [
        {
          "output_type": "stream",
          "text": [
            "2.5.0\n"
          ],
          "name": "stdout"
        }
      ]
    },
    {
      "cell_type": "code",
      "metadata": {
        "colab": {
          "base_uri": "https://localhost:8080/"
        },
        "id": "BnIAUlSJLS8N",
        "outputId": "26edbad2-8ba8-4670-d7f6-43be4cbff473"
      },
      "source": [
        "!wget --no-check-certificate \\\n",
        "  https://dicodingacademy.blob.core.windows.net/picodiploma/ml_pemula_academy/rockpaperscissors.zip \\\n",
        "  -O /tmp/rockpaperscissors.zip"
      ],
      "execution_count": 117,
      "outputs": [
        {
          "output_type": "stream",
          "text": [
            "--2021-05-26 09:23:35--  https://dicodingacademy.blob.core.windows.net/picodiploma/ml_pemula_academy/rockpaperscissors.zip\n",
            "Resolving dicodingacademy.blob.core.windows.net (dicodingacademy.blob.core.windows.net)... 52.239.197.36\n",
            "Connecting to dicodingacademy.blob.core.windows.net (dicodingacademy.blob.core.windows.net)|52.239.197.36|:443... connected.\n",
            "HTTP request sent, awaiting response... 200 OK\n",
            "Length: 322873683 (308M) [application/zip]\n",
            "Saving to: ‘/tmp/rockpaperscissors.zip’\n",
            "\n",
            "/tmp/rockpapersciss 100%[===================>] 307.92M  1.15MB/s    in 5m 32s  \n",
            "\n",
            "2021-05-26 09:29:09 (949 KB/s) - ‘/tmp/rockpaperscissors.zip’ saved [322873683/322873683]\n",
            "\n"
          ],
          "name": "stdout"
        }
      ]
    },
    {
      "cell_type": "code",
      "metadata": {
        "id": "TBIIb9tILcaO"
      },
      "source": [
        "# melakukan ekstraksi pada file zip\n",
        "local_zip = '/tmp/rockpaperscissors.zip'\n",
        "zip_ref = zipfile.ZipFile(local_zip, 'r')\n",
        "zip_ref.extractall('/tmp')\n",
        "zip_ref.close()\n"
      ],
      "execution_count": 118,
      "outputs": []
    },
    {
      "cell_type": "code",
      "metadata": {
        "id": "M9Ruzzm7O017"
      },
      "source": [
        "base_dir = '/tmp/rockpaperscissors'\n",
        "train_dir = os.path.join(base_dir, 'train')\n",
        "validation_dir = os.path.join(base_dir, 'val')\n",
        "\n",
        "rock_dir = os.path.join(base_dir, 'rock')\n",
        "paper_dir = os.path.join(base_dir, 'paper')\n",
        "scissors_dir = os.path.join(base_dir, 'scissors')"
      ],
      "execution_count": 119,
      "outputs": []
    },
    {
      "cell_type": "code",
      "metadata": {
        "id": "m16SbABShRqz"
      },
      "source": [
        "class myCallback(tf.keras.callbacks.Callback):\n",
        "  def on_epoch_end(self, epoch, logs={}):\n",
        "    if(logs.get('accuracy')> 0.98):\n",
        "      print(\"\\n98 % Accurated, Stop Training!\")\n",
        "      self.model.stop_training = True\n",
        "\n",
        "callbacks = myCallback()"
      ],
      "execution_count": 120,
      "outputs": []
    },
    {
      "cell_type": "code",
      "metadata": {
        "id": "RHtgWyXShTBw"
      },
      "source": [
        "if not os.path.exists(train_dir):\n",
        "\n",
        "  os.mkdir(train_dir)\n",
        "\n",
        "if not os.path.exists(validation_dir):\n",
        "\n",
        "  os.mkdir(validation_dir)"
      ],
      "execution_count": 121,
      "outputs": []
    },
    {
      "cell_type": "code",
      "metadata": {
        "id": "YHfPMLZShWEw"
      },
      "source": [
        "train_rock = os.path.join(train_dir, 'rock')\n",
        "train_paper = os.path.join(train_dir, 'paper')\n",
        "train_scissors = os.path.join(train_dir, 'scissors')"
      ],
      "execution_count": 122,
      "outputs": []
    },
    {
      "cell_type": "code",
      "metadata": {
        "id": "RCeUhWWrhnLU"
      },
      "source": [
        "validation_rock = os.path.join(validation_dir, 'rock')\n",
        "validation_paper = os.path.join(validation_dir, 'paper')\n",
        "validation_scissors = os.path.join(validation_dir, 'scissors')"
      ],
      "execution_count": 123,
      "outputs": []
    },
    {
      "cell_type": "code",
      "metadata": {
        "id": "Zd-Kdt_khq7w"
      },
      "source": [
        "#training\n",
        "if not os.path.exists(train_rock) :\n",
        "  os.mkdir(train_rock)\n",
        "\n",
        "if not os.path.exists(train_paper) :\n",
        "  os.mkdir(train_paper)\n",
        "\n",
        "if not os.path.exists(train_scissors) :\n",
        "  os.mkdir(train_scissors)\n",
        "\n",
        "#validation\n",
        "if not os.path.exists(validation_rock) :\n",
        "  os.mkdir(validation_rock)\n",
        "\n",
        "if not os.path.exists(validation_paper) :\n",
        "  os.mkdir(validation_paper)\n",
        "\n",
        "if not os.path.exists(validation_scissors) :\n",
        "  os.mkdir(validation_scissors)"
      ],
      "execution_count": 124,
      "outputs": []
    },
    {
      "cell_type": "code",
      "metadata": {
        "id": "C1JreAWDhxRs"
      },
      "source": [
        "train_rock_dir, validation_rock_dir = train_test_split(os.listdir(rock_dir), test_size = 0.4)\n",
        "train_paper_dir, validation_paper_dir = train_test_split(os.listdir(paper_dir), test_size = 0.4)\n",
        "train_scissors_dir, validation_scissors_dir = train_test_split(os.listdir(scissors_dir), test_size = 0.4)"
      ],
      "execution_count": 125,
      "outputs": []
    },
    {
      "cell_type": "code",
      "metadata": {
        "id": "EqTwcUghhzmK"
      },
      "source": [
        "for file in train_rock_dir:\n",
        "  shutil.copy(os.path.join(rock_dir, file), os.path.join(train_rock, file))\n",
        "for file in train_paper_dir:\n",
        "  shutil.copy(os.path.join(paper_dir,file), os.path.join(train_paper,file))\n",
        "for file in train_scissors_dir:\n",
        "  shutil.copy(os.path.join(scissors_dir,file), os.path.join(train_scissors,file))\n",
        "for file in validation_rock_dir:\n",
        "  shutil.copy(os.path.join(rock_dir, file), os.path.join(validation_rock,file))\n",
        "for file in validation_paper_dir:\n",
        "  shutil.copy(os.path.join(paper_dir,file), os.path.join(validation_paper,file))\n",
        "for file in validation_scissors_dir:\n",
        "  shutil.copy(os.path.join(scissors_dir,file), os.path.join(validation_scissors,file))"
      ],
      "execution_count": 126,
      "outputs": []
    },
    {
      "cell_type": "code",
      "metadata": {
        "colab": {
          "base_uri": "https://localhost:8080/"
        },
        "id": "sXe73y4I-0Ah",
        "outputId": "893b7e77-c29e-49c9-ee70-e59f9ff4376c"
      },
      "source": [
        "print(os.listdir('/tmp/rockpaperscissors/rps-cv-images'))"
      ],
      "execution_count": 127,
      "outputs": [
        {
          "output_type": "stream",
          "text": [
            "['rock', 'scissors', 'paper', 'README_rpc-cv-images.txt']\n"
          ],
          "name": "stdout"
        }
      ]
    },
    {
      "cell_type": "code",
      "metadata": {
        "id": "vsG-j143h2ya"
      },
      "source": [
        "train_datagen = ImageDataGenerator(\n",
        "                    rescale=1./255,\n",
        "                    rotation_range=20,\n",
        "                    horizontal_flip=True,\n",
        "                    shear_range = 0.2,\n",
        "                    zoom_range = 0.1,\n",
        "                    width_shift_range=0.2,  \n",
        "                    height_shift_range=0.2,\n",
        "                    fill_mode='nearest',\n",
        "                    validation_split=0.4) \n",
        "                    \n",
        " \n",
        "test_datagen = ImageDataGenerator(\n",
        "                    rescale=1./255,\n",
        "                    rotation_range=20,\n",
        "                    horizontal_flip=True,\n",
        "                    shear_range = 0.2, \n",
        "                    zoom_range = 0.1, \n",
        "                    width_shift_range=0.2,  \n",
        "                    height_shift_range=0.2,\n",
        "                    fill_mode='nearest',\n",
        "                    validation_split=0.4) "
      ],
      "execution_count": 128,
      "outputs": []
    },
    {
      "cell_type": "code",
      "metadata": {
        "colab": {
          "base_uri": "https://localhost:8080/"
        },
        "id": "49wL6NvAh5Uj",
        "outputId": "a787adf3-df69-4bad-9ecf-edb7661bed2f"
      },
      "source": [
        "train_generator = test_datagen.flow_from_directory(\n",
        "        train_dir,  \n",
        "        target_size=(150, 150),\n",
        "        batch_size= 32,\n",
        "        class_mode='categorical')\n",
        "\n",
        "validation_generator = test_datagen.flow_from_directory(\n",
        "        validation_dir,\n",
        "        target_size=(150, 150),\n",
        "        batch_size= 32, \n",
        "        class_mode='categorical')"
      ],
      "execution_count": 129,
      "outputs": [
        {
          "output_type": "stream",
          "text": [
            "Found 2171 images belonging to 3 classes.\n",
            "Found 2002 images belonging to 3 classes.\n"
          ],
          "name": "stdout"
        }
      ]
    },
    {
      "cell_type": "code",
      "metadata": {
        "id": "sLzgJk8wiSca"
      },
      "source": [
        "#model sequential\n",
        "model = tf.keras.models.Sequential([\n",
        "    tf.keras.layers.Conv2D(32, (3,3), activation='relu', input_shape=(150, 150, 3)),\n",
        "    tf.keras.layers.MaxPooling2D(2, 2),\n",
        "    tf.keras.layers.Conv2D(64, (3,3), activation='relu'),\n",
        "    tf.keras.layers.MaxPooling2D(2,2),\n",
        "    tf.keras.layers.Conv2D(128, (3,3), activation='relu'),\n",
        "    tf.keras.layers.MaxPooling2D(2,2),\n",
        "    tf.keras.layers.Conv2D(128, (3,3), activation='relu'),\n",
        "    tf.keras.layers.MaxPooling2D(2,2),\n",
        "    tf.keras.layers.Flatten(),\n",
        "    tf.keras.layers.Dense(512, activation='relu'),\n",
        "# menggunakan 'softmax' untuk klasifikasi 3 kelas\n",
        "    tf.keras.layers.Dense(3, activation='softmax')\n",
        "])\n",
        "\n",
        "\n",
        "model.compile(loss='categorical_crossentropy',\n",
        "              optimizer=tf.optimizers.RMSprop(learning_rate=0.001),\n",
        "              metrics=['accuracy'])"
      ],
      "execution_count": 130,
      "outputs": []
    },
    {
      "cell_type": "code",
      "metadata": {
        "colab": {
          "base_uri": "https://localhost:8080/"
        },
        "id": "3AQnEgOKCMQQ",
        "outputId": "8c110ece-1225-4859-9c4e-39cc9f43fb3d"
      },
      "source": [
        "model.summary()"
      ],
      "execution_count": 131,
      "outputs": [
        {
          "output_type": "stream",
          "text": [
            "Model: \"sequential_8\"\n",
            "_________________________________________________________________\n",
            "Layer (type)                 Output Shape              Param #   \n",
            "=================================================================\n",
            "conv2d_32 (Conv2D)           (None, 148, 148, 32)      896       \n",
            "_________________________________________________________________\n",
            "max_pooling2d_32 (MaxPooling (None, 74, 74, 32)        0         \n",
            "_________________________________________________________________\n",
            "conv2d_33 (Conv2D)           (None, 72, 72, 64)        18496     \n",
            "_________________________________________________________________\n",
            "max_pooling2d_33 (MaxPooling (None, 36, 36, 64)        0         \n",
            "_________________________________________________________________\n",
            "conv2d_34 (Conv2D)           (None, 34, 34, 128)       73856     \n",
            "_________________________________________________________________\n",
            "max_pooling2d_34 (MaxPooling (None, 17, 17, 128)       0         \n",
            "_________________________________________________________________\n",
            "conv2d_35 (Conv2D)           (None, 15, 15, 128)       147584    \n",
            "_________________________________________________________________\n",
            "max_pooling2d_35 (MaxPooling (None, 7, 7, 128)         0         \n",
            "_________________________________________________________________\n",
            "flatten_8 (Flatten)          (None, 6272)              0         \n",
            "_________________________________________________________________\n",
            "dense_17 (Dense)             (None, 512)               3211776   \n",
            "_________________________________________________________________\n",
            "dense_18 (Dense)             (None, 3)                 1539      \n",
            "=================================================================\n",
            "Total params: 3,454,147\n",
            "Trainable params: 3,454,147\n",
            "Non-trainable params: 0\n",
            "_________________________________________________________________\n"
          ],
          "name": "stdout"
        }
      ]
    },
    {
      "cell_type": "code",
      "metadata": {
        "id": "6t0SAY85iaom",
        "colab": {
          "base_uri": "https://localhost:8080/"
        },
        "outputId": "89db5200-3287-43f5-df6e-9f25ca702e4e"
      },
      "source": [
        "# latih model dengan model.fit\n",
        "history = model.fit(\n",
        "    train_generator,\n",
        "    steps_per_epoch = 41, \n",
        "    epochs = 20,\n",
        "    validation_data = validation_generator,\n",
        "    validation_steps = 27, \n",
        "    verbose =2,\n",
        "      callbacks=[callbacks]\n",
        ")"
      ],
      "execution_count": null,
      "outputs": [
        {
          "output_type": "stream",
          "text": [
            "Epoch 1/20\n",
            "41/41 - 169s - loss: 1.1477 - accuracy: 0.3864 - val_loss: 1.0784 - val_accuracy: 0.4213\n",
            "Epoch 2/20\n",
            "41/41 - 79s - loss: 0.9813 - accuracy: 0.5340 - val_loss: 0.8868 - val_accuracy: 0.4988\n",
            "Epoch 3/20\n",
            "41/41 - 79s - loss: 0.6174 - accuracy: 0.7582 - val_loss: 0.4157 - val_accuracy: 0.8356\n",
            "Epoch 4/20\n",
            "41/41 - 79s - loss: 0.4726 - accuracy: 0.8187 - val_loss: 0.3804 - val_accuracy: 0.8565\n",
            "Epoch 5/20\n",
            "41/41 - 79s - loss: 0.3680 - accuracy: 0.8699 - val_loss: 0.2249 - val_accuracy: 0.9363\n",
            "Epoch 6/20\n",
            "41/41 - 79s - loss: 0.2955 - accuracy: 0.9059 - val_loss: 0.1122 - val_accuracy: 0.9699\n",
            "Epoch 7/20\n",
            "41/41 - 79s - loss: 0.1923 - accuracy: 0.9419 - val_loss: 0.1762 - val_accuracy: 0.9491\n",
            "Epoch 8/20\n"
          ],
          "name": "stdout"
        }
      ]
    },
    {
      "cell_type": "code",
      "metadata": {
        "id": "mROlxhFzn5-2"
      },
      "source": [
        "uploaded = files.upload()\n",
        "\n",
        "for fn in uploaded.keys():\n",
        "\n",
        "  #Prediksi Gambar\n",
        "  path = fn \n",
        "  img = image.load_img(path, target_size =(150,150))\n",
        "  imgplot = plt.imshow(img)\n",
        "  x = image.img_to_array(img)\n",
        "  x = np.expand_dims(x, axis=0)\n",
        "\n",
        "  images = np.vstack([x])\n",
        "  classes = model.predict(images, batch_size=32)\n",
        "\n",
        "  #input array numpy \n",
        "  scissors  = \"[[0. 0. 1.]]\"\n",
        "  paper     = \"[[1. 0. 0.]]\"\n",
        "  rock      = \"[[0. 1. 0.]]\"\n",
        "\n",
        "  #menghitung hasil array tersebut \n",
        "\n",
        "  result = np.array_str(classes) \n",
        "\n",
        "  #Mengubah perhitungan hasil bahasa mesin ke dalam bahasa manusia(human)\n",
        "  if result == paper :\n",
        "     print(\"Kertas\")\n",
        "  elif result == rock :\n",
        "     print(\"Batu\")\n",
        "  elif result == scissors :\n",
        "     print(\"Gunting\")\n",
        "  else :\n",
        "     print(\"[[%PAPER. %ROCK. %SCISSORS]]\")"
      ],
      "execution_count": null,
      "outputs": []
    }
  ]
}